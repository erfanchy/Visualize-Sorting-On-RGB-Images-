{
 "cells": [
  {
   "cell_type": "code",
   "execution_count": 2,
   "metadata": {},
   "outputs": [
    {
     "data": {
      "image/png": "[encoded data removed]",
      "text/plain": [
       "<matplotlib.figure.Figure at 0x7fce64787ac8>"
      ]
     },
     "metadata": {
      "needs_background": "light"
     },
     "output_type": "display_data"
    }
   ],
   "source": [
    "import matplotlib.pyplot as plt\n",
    "import numpy as np\n",
    "from IPython import display\n",
    "import time \n",
    "import sys\n",
    "import random\n",
    "\n",
    "sys.setrecursionlimit(10**6) \n",
    "\n",
    "def swap(i,j,array) :\n",
    "\n",
    "    array[i],array[j] = array[j],array[i]\n",
    "\n",
    "def quicksort(array,img) :\n",
    "\n",
    "    quicksorthelper(0,len(array)-1,array,img)\n",
    "\n",
    "    return array \n",
    "\n",
    "\n",
    "def quicksorthelper(startidx,endidx,array,img)  : \n",
    "\n",
    "    if startidx>=endidx  : \n",
    "\n",
    "        return \n",
    "\n",
    "    pivotidx = startidx\n",
    "    leftidx = startidx + 1\n",
    "    rightidx = endidx \n",
    "\n",
    "    while leftidx<=rightidx: \n",
    "\n",
    "        if array[leftidx] > array[pivotidx] and array[rightidx] < array[pivotidx]  : \n",
    "\n",
    "            swap(leftidx,rightidx,array)\n",
    "\n",
    "        if array[pivotidx] >= array[leftidx] :\n",
    "\n",
    "            leftidx += 1\n",
    "\n",
    "        if array[pivotidx] <= array[rightidx] :\n",
    "\n",
    "            rightidx-=1\n",
    "    \n",
    "    reversed_image = [reverse[m] for m in array]\n",
    "    reversed_image_copy= np.array(reversed_image).reshape(img.shape[0],img.shape[1],img.shape[2])\n",
    "    plt.xlabel(\"Width\")\n",
    "    plt.ylabel(\"Height\")\n",
    "    plt.title(\"Quick Sort\",fontweight='bold',fontsize = 16)\n",
    "    plt.imshow(reversed_image_copy)\n",
    "    display.clear_output(wait=True)\n",
    "    plt.show() \n",
    "    swap(pivotidx,rightidx,array)\n",
    "    lenofsmallersubarray = rightidx -1 - startidx< endidx - (rightidx+1)\n",
    "\n",
    "    if lenofsmallersubarray : \n",
    "\n",
    "        quicksorthelper(startidx,rightidx-1,array,img)\n",
    "        quicksorthelper(rightidx+1,endidx,array,img)\n",
    "\n",
    "    else : \n",
    "        quicksorthelper(rightidx+1,endidx,array,img)\n",
    "        quicksorthelper(startidx,rightidx-1,array,img)\n",
    "\n",
    "\n",
    "\n",
    "if __name__==\"__main__\" :\n",
    "\n",
    "    img= plt.imread(\"walter_white.png\")\n",
    "    plt.imshow(img)\n",
    "    plt.show()\n",
    "    \n",
    "    flattened_image = img.flatten()\n",
    "    image = {} \n",
    "    for i in range(len(flattened_image)) : \n",
    "        image[i] = flattened_image[i]\n",
    "    reverse = {}\n",
    "    for key, value in (list(image.items())):\n",
    "        reverse[key] =  value\n",
    "    \n",
    "    array = list(reverse.keys())\n",
    "    random.Random(4).shuffle(array)\n",
    "    answer = quicksort(array,img)\n",
    "    \n"
   ]
  },
  {
   "cell_type": "code",
   "execution_count": null,
   "metadata": {},
   "outputs": [],
   "source": []
  },
  {
   "cell_type": "code",
   "execution_count": null,
   "metadata": {},
   "outputs": [],
   "source": []
  }
 ],
 "metadata": {
  "kernelspec": {
   "display_name": "Python 3",
   "language": "python",
   "name": "python3"
  },
  "language_info": {
   "codemirror_mode": {
    "name": "ipython",
    "version": 3
   },
   "file_extension": ".py",
   "mimetype": "text/x-python",
   "name": "python",
   "nbconvert_exporter": "python",
   "pygments_lexer": "ipython3",
   "version": "3.6.9"
  }
 },
 "nbformat": 4,
 "nbformat_minor": 4
}

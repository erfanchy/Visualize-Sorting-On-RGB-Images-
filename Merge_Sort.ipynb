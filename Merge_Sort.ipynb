{
 "cells": [
  {
   "cell_type": "code",
   "execution_count": 2,
   "metadata": {
    "scrolled": true
   },
   "outputs": [
    {
     "data": {
      "image/png": "[encoded data removed]",
      "text/plain": [
       "<matplotlib.figure.Figure at 0x7fa33e851d30>"
      ]
     },
     "metadata": {
      "needs_background": "light"
     },
     "output_type": "display_data"
    }
   ],
   "source": [
    "import matplotlib.pyplot as plt\n",
    "import numpy as np\n",
    "from IPython import display\n",
    "import time \n",
    "import sys\n",
    "import random\n",
    "\n",
    "def merge(arr, start, mid, end,img): \n",
    "    start2 = mid + 1\n",
    "    if (arr[mid] <= arr[start2]):\n",
    "        return\n",
    "\n",
    "    while (start <= mid and start2 <= end):\n",
    "            if (arr[start] <= arr[start2]) :\n",
    "                \n",
    "                array_nine = [reverse[m] for m in arr]\n",
    "                arr_copy= np.array(array_nine,dtype=\"float64\").reshape(img.shape[0],img.shape[1],img.shape[2])\n",
    "                plt.xlabel(\"Width\")\n",
    "                plt.ylabel(\"Height\")\n",
    "                plt.title(\"Merge Sort\",fontweight='bold',fontsize = 16)\n",
    "                plt.imshow(arr_copy)\n",
    "                display.clear_output(wait=True)\n",
    "                plt.show() \n",
    "                start += 1 \n",
    "            else:\n",
    "                \n",
    "                value = arr[start2] \n",
    "                index = start2\n",
    "                while (index != start): \n",
    "                    arr[index] = arr[index - 1]\n",
    "                    index -= 1\n",
    "                arr[start] = value\n",
    "                start += 1 \n",
    "                mid += 1\n",
    "                start2 += 1\n",
    "    \n",
    "    \n",
    "                \n",
    "    \n",
    "        \n",
    "            \n",
    "def mergesort(arr, l, r,img):\n",
    "        if (l < r): \n",
    "            m = l + (r - l) // 2\n",
    "            mergesort(arr, l, m,img)\n",
    "            mergesort(arr, m + 1, r,img) \n",
    "            merge(arr, l, m, r,img)\n",
    "            \n",
    "\n",
    "if __name__==\"__main__\" :\n",
    "\n",
    "    \n",
    "    img= plt.imread(\"walter_white.png\")\n",
    "    plt.imshow(img)\n",
    "    plt.show()\n",
    "    \n",
    "    flattened_image = img.flatten()\n",
    "    image = {} \n",
    "    for i in range(len(flattened_image)) : \n",
    "        image[i] = flattened_image[i]\n",
    "    reverse = {}\n",
    "    for key, value in (list(image.items())):\n",
    "        reverse[key] =  value\n",
    "    array = list(reverse.keys())\n",
    "    print(array)\n",
    "    l = 0 \n",
    "    r = len(array)-1\n",
    "    random.Random(4).shuffle(array)\n",
    "    answer = mergesort(array,l,r,img)\n",
    "    "
   ]
  },
  {
   "cell_type": "code",
   "execution_count": null,
   "metadata": {},
   "outputs": [],
   "source": []
  },
  {
   "cell_type": "code",
   "execution_count": null,
   "metadata": {},
   "outputs": [],
   "source": []
  },
  {
   "cell_type": "code",
   "execution_count": null,
   "metadata": {},
   "outputs": [],
   "source": []
  }
 ],
 "metadata": {
  "kernelspec": {
   "display_name": "Python 3",
   "language": "python",
   "name": "python3"
  },
  "language_info": {
   "codemirror_mode": {
    "name": "ipython",
    "version": 3
   },
   "file_extension": ".py",
   "mimetype": "text/x-python",
   "name": "python",
   "nbconvert_exporter": "python",
   "pygments_lexer": "ipython3",
   "version": "3.6.9"
  }
 },
 "nbformat": 4,
 "nbformat_minor": 4
}
